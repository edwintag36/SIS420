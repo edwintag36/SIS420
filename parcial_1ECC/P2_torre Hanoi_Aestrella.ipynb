{
 "cells": [
  {
   "cell_type": "code",
   "execution_count": 51,
   "metadata": {},
   "outputs": [],
   "source": [
    "from busquedas_02 import ProblemaBusqueda, aestrella"
   ]
  },
  {
   "cell_type": "code",
   "execution_count": 52,
   "metadata": {},
   "outputs": [],
   "source": [
    "# la librería usa un set() como memoria\n",
    "# no se pueden añadir objetos mutables a un set()\n",
    "\n",
    "estado_inicial = (\n",
    "    (3, 2, 1),\n",
    "    (),\n",
    "    ())\n",
    "\n",
    "estado_final = (\n",
    "    (),\n",
    "    (),\n",
    "    (3, 2, 1))"
   ]
  },
  {
   "cell_type": "code",
   "execution_count": 53,
   "metadata": {},
   "outputs": [
    {
     "data": {
      "text/plain": [
       "[[3, 2, 1], [], []]"
      ]
     },
     "execution_count": 53,
     "metadata": {},
     "output_type": "execute_result"
    }
   ],
   "source": [
    "# convertimos el estado a una lista de listas\n",
    "[list(pila) for pila in estado_inicial]"
   ]
  },
  {
   "cell_type": "code",
   "execution_count": 54,
   "metadata": {
    "scrolled": true
   },
   "outputs": [],
   "source": [
    "def intercambio(estado, origen, dest):\n",
    "    # convertir a lista de listas\n",
    "    pilas = [list(p) for p in estado]\n",
    "    \n",
    "    if len(pilas[dest]) == 0:\n",
    "        disco = pilas[origen].pop()\n",
    "        pilas[dest].append(disco)\n",
    "\n",
    "    elif pilas[dest][-1] > pilas[origen][-1]:\n",
    "        disco = pilas[origen].pop()\n",
    "        pilas[dest].append(disco)\n",
    "\n",
    "    # convertir a lista de tuplas\n",
    "    estado = [tuple(pila) for pila in pilas]    \n",
    "    return tuple(estado)"
   ]
  },
  {
   "cell_type": "code",
   "execution_count": 55,
   "metadata": {
    "scrolled": true
   },
   "outputs": [],
   "source": [
    "class Hanoi(ProblemaBusqueda):\n",
    "    def acciones(self, estado):\n",
    "        acciones = []\n",
    "        \n",
    "        indices = [0, 1, 2]\n",
    "        for origen in indices:\n",
    "            if len(estado[origen]) > 0:\n",
    "                for dest in indices:\n",
    "                    accion = intercambio(estado, origen, dest)\n",
    "                    if accion != estado:\n",
    "                        acciones.append(accion)\n",
    "        \n",
    "        return acciones\n",
    "        \n",
    "    def resultado(self, estado, origen):\n",
    "        return origen\n",
    "    \n",
    "    def es_objetivo(self, estado):\n",
    "        '''Devuelve True si un estado es el estado_objetivo.'''\n",
    "        return estado == estado_final"
   ]
  },
  {
   "cell_type": "code",
   "execution_count": 56,
   "metadata": {},
   "outputs": [
    {
     "name": "stdout",
     "output_type": "stream",
     "text": [
      "Wall time: 39.2 ms\n"
     ]
    }
   ],
   "source": [
    "%%time \n",
    "# ^ magic para medir el tiempo que tarda la celda\n",
    "\n",
    "resultado = aestrella(Hanoi(estado_inicial))"
   ]
  },
  {
   "cell_type": "code",
   "execution_count": 57,
   "metadata": {},
   "outputs": [
    {
     "data": {
      "text/plain": [
       "Node <((), (), (3, 2, 1))>"
      ]
     },
     "execution_count": 57,
     "metadata": {},
     "output_type": "execute_result"
    }
   ],
   "source": [
    "resultado"
   ]
  },
  {
   "cell_type": "code",
   "execution_count": null,
   "metadata": {},
   "outputs": [],
   "source": []
  }
 ],
 "metadata": {
  "kernelspec": {
   "display_name": "Python 3 (ipykernel)",
   "language": "python",
   "name": "python3"
  },
  "language_info": {
   "codemirror_mode": {
    "name": "ipython",
    "version": 3
   },
   "file_extension": ".py",
   "mimetype": "text/x-python",
   "name": "python",
   "nbconvert_exporter": "python",
   "pygments_lexer": "ipython3",
   "version": "3.10.7"
  }
 },
 "nbformat": 4,
 "nbformat_minor": 4
}
